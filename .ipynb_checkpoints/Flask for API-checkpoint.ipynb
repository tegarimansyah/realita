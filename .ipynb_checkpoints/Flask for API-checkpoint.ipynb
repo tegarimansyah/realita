{
 "cells": [
  {
   "cell_type": "code",
   "execution_count": 12,
   "metadata": {},
   "outputs": [],
   "source": [
    "#!flask/bin/python\n",
    "from flask import Flask, jsonify, abort, make_response, request,  url_for\n",
    "from flask_httpauth import HTTPBasicAuth\n",
    "\n",
    "app = Flask(__name__)\n",
    "auth = HTTPBasicAuth()"
   ]
  },
  {
   "cell_type": "code",
   "execution_count": 2,
   "metadata": {},
   "outputs": [],
   "source": [
    "tasks = [\n",
    "    {\n",
    "        'id': 1,\n",
    "        'title': u'Buy groceries',\n",
    "        'description': u'Milk, Cheese, Pizza, Fruit, Tylenol', \n",
    "        'done': False\n",
    "    },\n",
    "    {\n",
    "        'id': 2,\n",
    "        'title': u'Learn Python',\n",
    "        'description': u'Need to find a good Python tutorial on the web', \n",
    "        'done': False\n",
    "    }\n",
    "]\n"
   ]
  },
  {
   "cell_type": "code",
   "execution_count": 3,
   "metadata": {},
   "outputs": [],
   "source": [
    "@app.route('/')\n",
    "def index():\n",
    "    return \"Hello, World!\""
   ]
  },
  {
   "cell_type": "code",
   "execution_count": 15,
   "metadata": {},
   "outputs": [],
   "source": [
    "@app.route('/todo/api/v1.0/tasks', methods=['GET'])\n",
    "@auth.login_required\n",
    "def get_tasks():\n",
    "    return jsonify({'tasks': [make_public_task(task) for task in tasks]})"
   ]
  },
  {
   "cell_type": "code",
   "execution_count": 5,
   "metadata": {},
   "outputs": [],
   "source": [
    "@app.route('/todo/api/v1.0/tasks/<int:task_id>', methods=['GET'])\n",
    "def get_task(task_id):\n",
    "    task = [task for task in tasks if task['id'] == task_id]\n",
    "    if len(task) == 0:\n",
    "        abort(404)\n",
    "    return jsonify({'task': task[0]})"
   ]
  },
  {
   "cell_type": "code",
   "execution_count": 17,
   "metadata": {},
   "outputs": [],
   "source": [
    "@app.errorhandler(404)\n",
    "def not_found(error):\n",
    "    return make_response(jsonify({'error': 'Not found'}), 404)\n",
    "\n",
    "@auth.error_handler\n",
    "def unauthorized():\n",
    "    return make_response(jsonify({'error': 'Unauthorized access'}), 403)"
   ]
  },
  {
   "cell_type": "code",
   "execution_count": 7,
   "metadata": {},
   "outputs": [],
   "source": [
    "@app.route('/todo/api/v1.0/tasks', methods=['POST'])\n",
    "def create_task():\n",
    "    if not request.json or not 'title' in request.json:\n",
    "        abort(400)\n",
    "    task = {\n",
    "        'id': tasks[-1]['id'] + 1,\n",
    "        'title': request.json['title'],\n",
    "        'description': request.json.get('description', \"\"),\n",
    "        'done': False\n",
    "    }\n",
    "    tasks.append(task)\n",
    "    return jsonify({'task': task}), 201"
   ]
  },
  {
   "cell_type": "code",
   "execution_count": 8,
   "metadata": {},
   "outputs": [],
   "source": [
    "@app.route('/todo/api/v1.0/tasks/<int:task_id>', methods=['PUT'])\n",
    "def update_task(task_id):\n",
    "    task = [task for task in tasks if task['id'] == task_id]\n",
    "    if len(task) == 0:\n",
    "        abort(404)\n",
    "    if not request.json:\n",
    "        abort(400)\n",
    "    if 'title' in request.json and type(request.json['title']) != unicode:\n",
    "        abort(400)\n",
    "    if 'description' in request.json and type(request.json['description']) is not unicode:\n",
    "        abort(400)\n",
    "    if 'done' in request.json and type(request.json['done']) is not bool:\n",
    "        abort(400)\n",
    "    task[0]['title'] = request.json.get('title', task[0]['title'])\n",
    "    task[0]['description'] = request.json.get('description', task[0]['description'])\n",
    "    task[0]['done'] = request.json.get('done', task[0]['done'])\n",
    "    return jsonify({'task': task[0]})"
   ]
  },
  {
   "cell_type": "code",
   "execution_count": 9,
   "metadata": {},
   "outputs": [],
   "source": [
    "@app.route('/todo/api/v1.0/tasks/<int:task_id>', methods=['DELETE'])\n",
    "def delete_task(task_id):\n",
    "    task = [task for task in tasks if task['id'] == task_id]\n",
    "    if len(task) == 0:\n",
    "        abort(404)\n",
    "    tasks.remove(task[0])\n",
    "    return jsonify({'result': True})"
   ]
  },
  {
   "cell_type": "code",
   "execution_count": 10,
   "metadata": {},
   "outputs": [],
   "source": [
    "def make_public_task(task):\n",
    "    new_task = {}\n",
    "    for field in task:\n",
    "        if field == 'id':\n",
    "            new_task['uri'] = url_for('get_task', task_id=task['id'], _external=True)\n",
    "        else:\n",
    "            new_task[field] = task[field]\n",
    "    return new_task"
   ]
  },
  {
   "cell_type": "code",
   "execution_count": 14,
   "metadata": {},
   "outputs": [],
   "source": [
    "@auth.get_password\n",
    "def get_password(username):\n",
    "    if username == 'tegar':\n",
    "        return 'namamu'\n",
    "    return None"
   ]
  },
  {
   "cell_type": "code",
   "execution_count": null,
   "metadata": {
    "scrolled": true
   },
   "outputs": [
    {
     "name": "stderr",
     "output_type": "stream",
     "text": [
      " * Running on http://127.0.0.1:5000/ (Press CTRL+C to quit)\n",
      "127.0.0.1 - - [21/Mar/2018 15:57:39] \"GET /todo/api/v1.0/tasks/3 HTTP/1.1\" 404 -\n",
      "127.0.0.1 - - [21/Mar/2018 15:57:45] \"GET /todo/api/v1.0/tasks HTTP/1.1\" 403 -\n",
      "127.0.0.1 - - [21/Mar/2018 15:57:50] \"GET /todo/api/v1.0/tasks/2 HTTP/1.1\" 404 -\n",
      "127.0.0.1 - - [21/Mar/2018 15:57:53] \"GET /todo/api/v1.0/tasks/1 HTTP/1.1\" 404 -\n"
     ]
    }
   ],
   "source": [
    "if __name__ == '__main__':\n",
    "    app.run(debug=False)"
   ]
  },
  {
   "cell_type": "code",
   "execution_count": null,
   "metadata": {},
   "outputs": [],
   "source": []
  }
 ],
 "metadata": {
  "kernelspec": {
   "display_name": "Python 3",
   "language": "python",
   "name": "python3"
  },
  "language_info": {
   "codemirror_mode": {
    "name": "ipython",
    "version": 3
   },
   "file_extension": ".py",
   "mimetype": "text/x-python",
   "name": "python",
   "nbconvert_exporter": "python",
   "pygments_lexer": "ipython3",
   "version": "3.6.3"
  }
 },
 "nbformat": 4,
 "nbformat_minor": 2
}
