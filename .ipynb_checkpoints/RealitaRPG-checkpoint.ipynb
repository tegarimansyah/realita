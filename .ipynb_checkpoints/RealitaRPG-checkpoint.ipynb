{
 "cells": [
  {
   "cell_type": "markdown",
   "metadata": {},
   "source": [
    "# Database\n",
    "\n",
    "```python3\n",
    "insert_statement = \"INSERT INTO `%s` %s VALUES %s;\"\n",
    "select_statement = \"SELECT %s from `%s` where 1\"\n",
    "update_statement = \"UPDATE `%s` set %s where %s\"\n",
    "```"
   ]
  },
  {
   "cell_type": "code",
   "execution_count": 1,
   "metadata": {},
   "outputs": [],
   "source": [
    "import MySQLdb\n",
    "\n",
    "class database():\n",
    "    \n",
    "    def __init__(self):\n",
    "        self.db = MySQLdb.connect('localhost', 'root', 'root')\n",
    "        self.cursor = self.db.cursor()\n",
    "        self.cursor.execute('USE `realita_rpg`')\n",
    "    \n",
    "    def insert(self, table, value_list, value_data):\n",
    "        insert_statement = \"INSERT INTO `%s` %s VALUES %s;\"\n",
    "        sql = insert_statement % (table, value_list, value_data)\n",
    "        self.cursor.execute(sql)\n",
    "        self.db.commit()\n",
    "        return self.cursor.lastrowid\n",
    "\n",
    "\n",
    "    def select(self, table, value_list, request=None, operand='or'):\n",
    "        if request is None:\n",
    "            select_statement = \"SELECT %s from `%s` where 1\"\n",
    "            sql = select_statement % (value_list, table)\n",
    "            r = self.cursor.execute(sql)\n",
    "        else:\n",
    "            select_statement = \"SELECT %s from `%s` where %s\"\n",
    "            if operand == 'and':\n",
    "                where = ' and '.join([\"`%s` = '%s'\" % (str(i),str(request[i])) for i in list(request.keys())])\n",
    "            else:\n",
    "                where = ' or '.join([\"`%s` = '%s'\" % (str(i),str(request[i])) for i in list(request.keys())])\n",
    "            sql = select_statement % (value_list, table, where)\n",
    "            r = self.cursor.execute(sql)\n",
    "            \n",
    "        if r > 0:\n",
    "            return self.cursor.fetchall()\n",
    "        else:\n",
    "            return None\n",
    "\n",
    "    def update(self, table, value_list, request=None, operand='or'):\n",
    "        if request is None:\n",
    "            r = 0\n",
    "               \n",
    "        else:\n",
    "            update_statement = \"UPDATE `%s` set %s where %s\"\n",
    "            \n",
    "            set_value = ', '.join([\"%s = %s\" % (str(i),str(value_list[i])) for i in list(value_list.keys())])\n",
    "               \n",
    "            if operand == 'and':\n",
    "                where = ' and '.join([\"`%s` = '%s'\" % (str(i),str(request[i])) for i in list(request.keys())])\n",
    "            else:\n",
    "                where = ' or '.join([\"`%s` = '%s'\" % (str(i),str(request[i])) for i in list(request.keys())])\n",
    "               \n",
    "            sql = update_statement % (table, set_value, where)\n",
    "            r = self.cursor.execute(sql)\n",
    "            self.db.commit()\n",
    "            \n",
    "        if r > 0:\n",
    "            return True\n",
    "        else:\n",
    "            return None\n",
    "    \n",
    "    def delete(self, table, value_list, value_data):\n",
    "        pass"
   ]
  },
  {
   "cell_type": "markdown",
   "metadata": {},
   "source": [
    "## Registransi dan Login"
   ]
  },
  {
   "cell_type": "code",
   "execution_count": 2,
   "metadata": {},
   "outputs": [],
   "source": [
    "db = database()"
   ]
  },
  {
   "cell_type": "code",
   "execution_count": 3,
   "metadata": {},
   "outputs": [],
   "source": [
    "def get_userid(username = None, email = None):\n",
    "    table = 'Users'\n",
    "    value_list = '`id`'\n",
    "    request = {}\n",
    "    \n",
    "    if username is not None:\n",
    "        request['username'] = username\n",
    "    if email is not None:\n",
    "        request['email'] = email\n",
    "    \n",
    "    data = db.select(table, value_list, request)\n",
    "    \n",
    "    if data is not None:\n",
    "        return data[0][0]\n",
    "    else:\n",
    "        return 0"
   ]
  },
  {
   "cell_type": "code",
   "execution_count": 4,
   "metadata": {},
   "outputs": [],
   "source": [
    "def create_profile(username):\n",
    "    table = 'GameProfile'\n",
    "    value_list = '(`id_user`)'\n",
    "    id_user = get_userid(username = username)\n",
    "    \n",
    "    if id_user > 0:\n",
    "        value_data = '(' + str(id_user) + ')'\n",
    "        if db.insert(table,value_list,value_data):\n",
    "            return True\n",
    "        else:\n",
    "            return False\n",
    "        \n",
    "    else:\n",
    "        return False"
   ]
  },
  {
   "cell_type": "code",
   "execution_count": 5,
   "metadata": {},
   "outputs": [],
   "source": [
    "def register(username, email, password):\n",
    "    from hashlib import sha256, md5\n",
    "    from datetime import datetime\n",
    "    \n",
    "    if get_userid(username = username, email = email) == 0:\n",
    "        \n",
    "        password_hash = sha256(password.encode('UTF-8')).hexdigest()    \n",
    "        activation_key = md5((email + str(datetime.utcnow())).encode('UTF-8')).hexdigest()\n",
    "\n",
    "        table = 'Users'\n",
    "        value_list = '(`username`, `email`, `password_hash`, `activation_key`)'\n",
    "        value_data = username, email, password_hash, activation_key\n",
    "        \n",
    "        if db.insert(table,value_list,value_data):\n",
    "            return {'success' : True, 'activation_key' : activation_key}, 201\n",
    "        \n",
    "        return {'success' : False, 'error' : 'Unknown Error'}, 400\n",
    "        \n",
    "    else:\n",
    "        return {'success' : False, 'error' : 'Username atau email sudah digunakan'}, 409"
   ]
  },
  {
   "cell_type": "code",
   "execution_count": 6,
   "metadata": {},
   "outputs": [],
   "source": [
    "def activation(username, activation_key):\n",
    "    \n",
    "    table = 'Users'\n",
    "    value_list = {\n",
    "        '`activation_key`' : 'Null'\n",
    "    }\n",
    "    request = {\n",
    "        'username' : username,\n",
    "        'activation_key' : activation_key\n",
    "    }\n",
    "    \n",
    "    if db.update(table, value_list, request, operand='and') :\n",
    "        if create_profile(username):\n",
    "            return {'success' : True, 'activation' : 'Done'}, 202 # 303 untuk redirect\n",
    "        else:\n",
    "            return {'success' : False, 'error' : 'Unknown Error'}, 400\n",
    "    else:\n",
    "        return {'success' : False, 'error' : 'Activation Failed'}, 423"
   ]
  },
  {
   "cell_type": "code",
   "execution_count": 7,
   "metadata": {},
   "outputs": [],
   "source": [
    "def login(username, password):\n",
    "    from hashlib import sha256\n",
    "    password_hash = sha256(password.encode('UTF-8')).hexdigest()\n",
    "    \n",
    "    table = 'Users'\n",
    "    value_list = '`id`, `activation_key`'\n",
    "    request = {\n",
    "        'username' : username,\n",
    "        'password_hash' : password_hash\n",
    "    }\n",
    "    \n",
    "    data = db.select(table, value_list, request, operand='and') \n",
    "    \n",
    "    if data is not None:\n",
    "        if data[0][1] is None:\n",
    "            return {'success' : True, 'my_userid' : data[0][0]}, 202 # 303 untuk redirect\n",
    "        else:\n",
    "            return {'success' : False, 'error' : 'Please activate your account'}, 401\n",
    "    else:\n",
    "        return {'success' : False, 'error' : 'Your username or password is wrong'}, 401"
   ]
  },
  {
   "cell_type": "markdown",
   "metadata": {},
   "source": [
    "## Games"
   ]
  },
  {
   "cell_type": "code",
   "execution_count": 8,
   "metadata": {},
   "outputs": [],
   "source": [
    "def get_communities_list():\n",
    "    data = db.select(table='Communities', value_list='`id`, `name`')\n",
    "    data_dict = {}\n",
    "    for i in data:\n",
    "        data_dict[i[0]] = i[1]\n",
    "    return data_dict\n",
    "    \n",
    "def get_guilds_list():\n",
    "    data = db.select(table='Guilds', value_list='`id`, `name`')\n",
    "    data_dict = {}\n",
    "    for i in data:\n",
    "        data_dict[i[0]] = i[1]\n",
    "    return data_dict\n",
    "\n",
    "def get_parties_list():\n",
    "    data = db.select(table='Parties', value_list='`id`, `name`')\n",
    "    data_dict = {}\n",
    "    for i in data:\n",
    "        data_dict[i[0]] = i[1]\n",
    "    return data_dict\n",
    "\n",
    "def get_jobs_list():\n",
    "    data = db.select(table='Jobs', value_list='`id`, `name`')\n",
    "    data_dict = {}\n",
    "    for i in data:\n",
    "        data_dict[i[0]] = i[1]\n",
    "    return data_dict\n",
    "\n",
    "def get_map_list():\n",
    "    data = db.select(table='Maps', value_list='`id`, `name`')\n",
    "    data_dict = {}\n",
    "    for i in data:\n",
    "        data_dict[i[0]] = i[1]\n",
    "    return data_dict\n",
    "\n",
    "def get_quest_list():\n",
    "    data = db.select(table='Quests', value_list='`id`, `name`')\n",
    "    data_dict = {}\n",
    "    for i in data:\n",
    "        data_dict[i[0]] = i[1]\n",
    "    return data_dict\n",
    "\n",
    "def update_game():\n",
    "    GameInfo = {\n",
    "            'Communities': get_communities_list(),\n",
    "            'Guilds':get_guilds_list(),\n",
    "            'Parties':get_parties_list(),\n",
    "            'Jobs':get_jobs_list(),\n",
    "            'Maps':get_map_list(),\n",
    "            'Quests':get_quest_list()\n",
    "    }\n",
    "    return GameInfo, 200\n",
    "    "
   ]
  },
  {
   "cell_type": "code",
   "execution_count": 9,
   "metadata": {},
   "outputs": [],
   "source": [
    "def get_my_profile(id_user):\n",
    "    request = {\n",
    "        'id_user' : id_user\n",
    "    }\n",
    "    data = db.select(table='GameProfile', value_list='*', request=request)\n",
    "    name = ['id_user', 'id_party','id_community', 'id_guild', 'job', 'current_quest', 'location', 'health', 'mana', 'exp', 'level']\n",
    "    data_dict = {}\n",
    "    for i in range(len(data[0])):\n",
    "        data_dict[name[i]] = data[0][i]\n",
    "    \n",
    "    return data_dict, 200"
   ]
  },
  {
   "cell_type": "markdown",
   "metadata": {},
   "source": [
    "## Uji Coba Registrasi dan Login"
   ]
  },
  {
   "cell_type": "code",
   "execution_count": 10,
   "metadata": {},
   "outputs": [],
   "source": [
    "username = 'asd'\n",
    "email = 'tegsr@asd.name'\n",
    "password = 'tegarimansyah'"
   ]
  },
  {
   "cell_type": "code",
   "execution_count": 11,
   "metadata": {},
   "outputs": [
    {
     "data": {
      "text/plain": [
       "({'error': 'Username atau email sudah digunakan', 'success': False}, 409)"
      ]
     },
     "execution_count": 11,
     "metadata": {},
     "output_type": "execute_result"
    }
   ],
   "source": [
    "register(username, email, password)"
   ]
  },
  {
   "cell_type": "code",
   "execution_count": 12,
   "metadata": {},
   "outputs": [
    {
     "data": {
      "text/plain": [
       "({'my_userid': 22, 'success': True}, 202)"
      ]
     },
     "execution_count": 12,
     "metadata": {},
     "output_type": "execute_result"
    }
   ],
   "source": [
    "login(username, password)"
   ]
  },
  {
   "cell_type": "code",
   "execution_count": 13,
   "metadata": {},
   "outputs": [
    {
     "data": {
      "text/plain": [
       "({'error': 'Activation Failed', 'success': False}, 423)"
      ]
     },
     "execution_count": 13,
     "metadata": {},
     "output_type": "execute_result"
    }
   ],
   "source": [
    "activation(username,'f07e997bef003b455fe9f294783b031d')"
   ]
  },
  {
   "cell_type": "code",
   "execution_count": 14,
   "metadata": {},
   "outputs": [
    {
     "data": {
      "text/plain": [
       "0"
      ]
     },
     "execution_count": 14,
     "metadata": {},
     "output_type": "execute_result"
    }
   ],
   "source": [
    "get_userid(username = 'eaddasda')"
   ]
  },
  {
   "cell_type": "markdown",
   "metadata": {},
   "source": [
    "## Flask API"
   ]
  },
  {
   "cell_type": "code",
   "execution_count": 15,
   "metadata": {},
   "outputs": [],
   "source": [
    "from flask import Flask, jsonify, abort, make_response\n",
    "from flask_restful import Api, Resource, reqparse, fields, marshal"
   ]
  },
  {
   "cell_type": "code",
   "execution_count": 16,
   "metadata": {},
   "outputs": [],
   "source": [
    "app = Flask(__name__)\n",
    "api = Api(app)"
   ]
  },
  {
   "cell_type": "code",
   "execution_count": 17,
   "metadata": {},
   "outputs": [],
   "source": [
    "class Account(Resource):\n",
    "    def __init__(self):\n",
    "        self.reqparse = reqparse.RequestParser()\n",
    "        self.reqparse.add_argument('request', type=str, required=True,\n",
    "                                   help='Your request',\n",
    "                                   location='json')\n",
    "        self.reqparse.add_argument('username', type=str, required=True,\n",
    "                                   help='Your unique username',\n",
    "                                   location='json')\n",
    "        self.reqparse.add_argument('email', type=str,\n",
    "                                   help='Your email',\n",
    "                                   location='json')\n",
    "        self.reqparse.add_argument('password', type=str,\n",
    "                                   help='Your password',\n",
    "                                   location='json')\n",
    "        self.reqparse.add_argument('activation_key', type=str,\n",
    "                                   help='Your password',\n",
    "                                   location='json')\n",
    "        \n",
    "        super(Account, self).__init__()\n",
    "        \n",
    "    def post(self):\n",
    "        args = self.reqparse.parse_args()\n",
    "        request = args['request']\n",
    "        username = args['username']\n",
    "\n",
    "        if request == 'register':\n",
    "            response = register(username, args['email'], args['password'])\n",
    "        elif request == 'login':\n",
    "            response = login(username, args['password'])\n",
    "        elif request == 'activation':\n",
    "            response = activation(username, args['activation_key'])\n",
    "        else:\n",
    "            return {'success': False, 'error':'Your request is unknown'}, 400\n",
    "        \n",
    "        return response"
   ]
  },
  {
   "cell_type": "code",
   "execution_count": 18,
   "metadata": {},
   "outputs": [],
   "source": [
    "api.add_resource(Account, '/api/v1.0/account/', endpoint='account')"
   ]
  },
  {
   "cell_type": "code",
   "execution_count": 19,
   "metadata": {},
   "outputs": [],
   "source": [
    "class GameProfile(Resource):\n",
    "    def __init__(self):\n",
    "        self.reqparse = reqparse.RequestParser()\n",
    "        self.reqparse.add_argument('request', type=str, required=True,\n",
    "                                   help='Your request',\n",
    "                                   location='json')\n",
    "        self.reqparse.add_argument('my_userid', type=str, required=True,\n",
    "                                   help='Your UserID',\n",
    "                                   location='json')\n",
    "        \n",
    "        super(GameProfile, self).__init__()\n",
    "        \n",
    "    def post(self):\n",
    "        args = self.reqparse.parse_args()\n",
    "        request = args['request']\n",
    "        \n",
    "        if request == 'my_profile':\n",
    "            return get_my_profile(args['my_userid'])       \n",
    "        elif request == 'add_community':\n",
    "            pass\n",
    "        elif request == 'add_guild':\n",
    "            pass\n",
    "        elif request == 'add_party':\n",
    "            pass\n",
    "        elif request == 'do_job':\n",
    "            pass\n",
    "        elif request == 'do_quest':\n",
    "            pass\n",
    "        elif request == 'move_location':\n",
    "            pass\n",
    "        elif request == 'on_batle':\n",
    "            pass # Berhubungan dengan perubahan health, mana, exp dan level\n",
    "        else:\n",
    "            return {'success': False, 'error':'Your request is unknown'}, 400\n",
    "    \n",
    "    def get(self):\n",
    "        return update_game()"
   ]
  },
  {
   "cell_type": "code",
   "execution_count": 20,
   "metadata": {},
   "outputs": [],
   "source": [
    "api.add_resource(GameProfile, '/api/v1.0/gameprofile/', endpoint='gameprofile')"
   ]
  },
  {
   "cell_type": "code",
   "execution_count": 21,
   "metadata": {},
   "outputs": [],
   "source": [
    "def rule():\n",
    "    pass"
   ]
  },
  {
   "cell_type": "code",
   "execution_count": 22,
   "metadata": {},
   "outputs": [],
   "source": [
    "def update_todolist():\n",
    "    pass\n",
    "\n",
    "def add_todo(my_userid, data):\n",
    "    table = 'ToDo'\n",
    "    value_list = ''\n",
    "    value_data = (\n",
    "                    0,\n",
    "                    my_userid,\n",
    "                    data['title' ] if 'title' in data.keys() else \"Null\",\n",
    "                    data['desc' ] if 'desc' in data.keys() else \"Null\",\n",
    "                    data['status' ] if 'status' in data.keys() else \"Null\",\n",
    "                    data['start' ] if 'start' in data.keys() else \"Null\",\n",
    "                    data['deadline' ] if 'deadline' in data.keys() else \"Null\",\n",
    "                    data['is_parent' ] if 'is_parent' in data.keys() else \"Null\",\n",
    "                    data['has_child' ] if 'has_child' in data.keys() else \"Null\",\n",
    "                    data['category' ] if 'category' in data.keys() else \"Null\",\n",
    "                    data['difficulty'] if 'difficulty' in data.keys() else \"Null\",\n",
    "                    data['quest'] if 'quest' in data.keys() else \"Null\"   \n",
    "                    )\n",
    "    todoid = db.insert(table,value_list,value_data)\n",
    "    if todoid:\n",
    "        return {'success' : True, 'todo_id' : todoid}, 201\n",
    "    else:\n",
    "        return {'success' : False, 'error' : 'unknown error'}, 400\n",
    "\n",
    "def on_done():\n",
    "    pass\n",
    "\n",
    "def edit_todo():\n",
    "    pass"
   ]
  },
  {
   "cell_type": "raw",
   "metadata": {},
   "source": [
    "data = {\n",
    "    'title' : 'Ini Judul2',\n",
    "    'desc' : 'Ini deskripsi',\n",
    "    'status' : 1,\n",
    "    'start' : '2018-03-31 13:08:46',\n",
    "    'deadline' : '2018-03-31 18:08:46',\n",
    "    'is_parent' : 1,\n",
    "    'has_child' : 0,\n",
    "    'category' : 'uncategory',\n",
    "    'difficulty' : 1,\n",
    "    'quest' : 1\n",
    "}\n",
    "add_todo(23, data)"
   ]
  },
  {
   "cell_type": "code",
   "execution_count": 23,
   "metadata": {},
   "outputs": [],
   "source": [
    "class ToDo(Resource):\n",
    "    def __init__(self):\n",
    "        self.reqparse = reqparse.RequestParser()\n",
    "        self.reqparse.add_argument('request', type=str, required=True,\n",
    "                                   help='Your request',\n",
    "                                   location='json')\n",
    "        self.reqparse.add_argument('my_userid', type=str, required=True,\n",
    "                                   help='Your UserID',\n",
    "                                   location='json')\n",
    "        self.reqparse.add_argument('data', type=dict,\n",
    "                                   help='Your ToDo Data',\n",
    "                                   location='json')\n",
    "        \n",
    "        super(ToDo, self).__init__()\n",
    "        \n",
    "    def post(self):\n",
    "        args = self.reqparse.parse_args()\n",
    "        request = args['request']\n",
    "        my_userid = args['my_userid']\n",
    "        \n",
    "        if request == 'add_todo':\n",
    "            return add_todo(my_userid, args['data'])     \n",
    "        elif request == 'edit_todo':\n",
    "            pass\n",
    "        else:\n",
    "            return {'success': False, 'error':'Your request is unknown'}, 400\n",
    "    \n",
    "    def get(self):\n",
    "        return update_todolist()"
   ]
  },
  {
   "cell_type": "code",
   "execution_count": 24,
   "metadata": {},
   "outputs": [],
   "source": [
    "api.add_resource(ToDo, '/api/v1.0/todo/', endpoint='todo')"
   ]
  },
  {
   "cell_type": "code",
   "execution_count": null,
   "metadata": {},
   "outputs": [
    {
     "name": "stderr",
     "output_type": "stream",
     "text": [
      " * Running on http://127.0.0.1:5000/ (Press CTRL+C to quit)\n",
      "127.0.0.1 - - [31/Mar/2018 16:26:20] \"POST /api/v1.0/todo/ HTTP/1.1\" 201 -\n",
      "127.0.0.1 - - [31/Mar/2018 16:26:56] \"POST /api/v1.0/todo/ HTTP/1.1\" 201 -\n"
     ]
    }
   ],
   "source": [
    "if __name__ == '__main__':\n",
    "    app.run(debug=False)"
   ]
  },
  {
   "cell_type": "code",
   "execution_count": null,
   "metadata": {},
   "outputs": [],
   "source": []
  }
 ],
 "metadata": {
  "kernelspec": {
   "display_name": "Python 3",
   "language": "python",
   "name": "python3"
  },
  "language_info": {
   "codemirror_mode": {
    "name": "ipython",
    "version": 3
   },
   "file_extension": ".py",
   "mimetype": "text/x-python",
   "name": "python",
   "nbconvert_exporter": "python",
   "pygments_lexer": "ipython3",
   "version": "3.6.3"
  }
 },
 "nbformat": 4,
 "nbformat_minor": 2
}
