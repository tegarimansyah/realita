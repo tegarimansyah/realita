{
 "cells": [
  {
   "cell_type": "markdown",
   "metadata": {},
   "source": [
    "# Create Read Update Delete (CRUD) MySQL Database Dengan Python\n",
    "\n",
    "Untuk mengakses MySQL, setidaknya kita bisa meminta bantuan dari driver [mysqlclient](https://mysqlclient.readthedocs.io). Lakukan [instalasi](https://github.com/PyMySQL/mysqlclient-python#install) dan import library tersebut. Untuk mempelajari tentang library tersebut dapat membuka [dokumentasinya](https://mysqlclient.readthedocs.io/user_guide.html#mysqldb) langsung."
   ]
  },
  {
   "cell_type": "code",
   "execution_count": 1,
   "metadata": {},
   "outputs": [],
   "source": [
    "import MySQLdb"
   ]
  },
  {
   "cell_type": "markdown",
   "metadata": {},
   "source": [
    "Misal kita ingin membuat sebuah database untuk penyimpanan data anggota telegram di komunitas Surabaya.py. Jadi kita membutuhkan tabel anggota kurang lebih seperti ini:\n",
    "\n",
    "|User ID|Nama|Email|Password|Telegram ID|Registered Date|Activation Key|\n",
    "|--|--|--|--|--|--|--|\n",
    "|int|varchar|varchar|varchar|varchar|date|varchar|\n",
    "|Primary||Unique||Unique||Unique|\n",
    "\n",
    "Sekarang kita coba terhubung dengan MySQL, membuat database dan membuat tabel anggota."
   ]
  },
  {
   "cell_type": "code",
   "execution_count": 2,
   "metadata": {},
   "outputs": [],
   "source": [
    "host = 'localhost'\n",
    "mysql_username = 'root'\n",
    "mysql_password = 'root'\n",
    "\n",
    "database = 'surabayapy'\n",
    "table_member = 'anggota'"
   ]
  },
  {
   "cell_type": "code",
   "execution_count": 3,
   "metadata": {},
   "outputs": [],
   "source": [
    "db=MySQLdb.connect(host, mysql_username, mysql_password)\n",
    "cursor = db.cursor()"
   ]
  },
  {
   "cell_type": "code",
   "execution_count": 4,
   "metadata": {},
   "outputs": [
    {
     "data": {
      "text/plain": [
       "1"
      ]
     },
     "execution_count": 4,
     "metadata": {},
     "output_type": "execute_result"
    }
   ],
   "source": [
    "# Membuat Database\n",
    "sql = \"CREATE DATABASE IF NOT EXISTS %s\" % (database) \n",
    "cursor.execute(sql)"
   ]
  },
  {
   "cell_type": "code",
   "execution_count": 5,
   "metadata": {},
   "outputs": [
    {
     "data": {
      "text/plain": [
       "0"
      ]
     },
     "execution_count": 5,
     "metadata": {},
     "output_type": "execute_result"
    }
   ],
   "source": [
    "sql = 'USE `%s`' % (database)\n",
    "cursor.execute(sql)"
   ]
  },
  {
   "cell_type": "code",
   "execution_count": 6,
   "metadata": {},
   "outputs": [
    {
     "data": {
      "text/plain": [
       "0"
      ]
     },
     "execution_count": 6,
     "metadata": {},
     "output_type": "execute_result"
    }
   ],
   "source": [
    "# Membuat Tabel\n",
    "sql = '''CREATE TABLE IF NOT EXISTS `%s`.`%s` ( \n",
    "    `userid` INT NOT NULL AUTO_INCREMENT , \n",
    "    `name` VARCHAR(64) NOT NULL , \n",
    "    `email` VARCHAR(64) NOT NULL , \n",
    "    `password` VARCHAR(64) NOT NULL , \n",
    "    `telegram_id` VARCHAR(64) ,\n",
    "    `registered_date` DATE NOT NULL , \n",
    "    `key` VARCHAR(64) , \n",
    "    PRIMARY KEY (`userid`),\n",
    "    UNIQUE (`email`),\n",
    "    UNIQUE (`telegram_id`),\n",
    "    UNIQUE (`key`)\n",
    "    ) ENGINE = InnoDB;\n",
    "   ''' % (database, table_member)\n",
    "cursor.execute(sql)"
   ]
  },
  {
   "cell_type": "code",
   "execution_count": 7,
   "metadata": {},
   "outputs": [],
   "source": [
    "from datetime import datetime\n",
    "import hashlib"
   ]
  },
  {
   "cell_type": "code",
   "execution_count": 8,
   "metadata": {},
   "outputs": [],
   "source": [
    "# Read Account If Already Registered\n",
    "\n",
    "def check_not_registered(telegram_id, email):\n",
    "    sql = '''\n",
    "                select `name` from `%s` where `telegram_id`='%s' or `email`='%s';\n",
    "            ''' % (table_member, telegram_id, email)\n",
    "    response = cursor.execute(sql)\n",
    "    if (response > 0):\n",
    "        response = cursor.fetchone()\n",
    "        print(\"Hello %s, check your email for activating your account\" % response[0])\n",
    "        return False\n",
    "    \n",
    "    return True"
   ]
  },
  {
   "cell_type": "code",
   "execution_count": 9,
   "metadata": {},
   "outputs": [],
   "source": [
    "# Supporing Function\n",
    "\n",
    "def sha256(password):\n",
    "    password = password.encode('UTF-8')\n",
    "    hash_object = hashlib.sha256(password)\n",
    "    hex_dig = hash_object.hexdigest()\n",
    "    return hex_dig\n",
    "\n",
    "def md5(text):\n",
    "    from random import randint\n",
    "    salt = str(randint(1, 7829))\n",
    "    text = salt+text\n",
    "    text = text.encode('UTF-8')\n",
    "    hash_object = hashlib.md5(text)\n",
    "    hex_dig = hash_object.hexdigest()\n",
    "    return hex_dig"
   ]
  },
  {
   "cell_type": "code",
   "execution_count": 10,
   "metadata": {},
   "outputs": [],
   "source": [
    "# Create Account\n",
    "def register(name, email, password, telegram_id):\n",
    "    if check_not_registered(telegram_id, email):\n",
    "        password = sha256(password)\n",
    "        key = md5(email + str(datetime.utcnow()))\n",
    "        # userid, name, email, password, telegram_id, registered_date, activation_key\n",
    "        sql = '''\n",
    "                    insert into `%s` values (NULL, '%s', '%s', '%s', '%s', CURRENT_DATE(), '%s');\n",
    "                ''' % (table_member, name, email, password, telegram_id, key) \n",
    "        cursor.execute(sql)\n",
    "        print('Account activation code: \"%s\" for @%s' % (key, telegram_id))\n",
    "    \n",
    "        db.commit()"
   ]
  },
  {
   "cell_type": "code",
   "execution_count": 11,
   "metadata": {},
   "outputs": [],
   "source": [
    "# Update Account\n",
    "def activation(key, telegram_id):\n",
    "    sql = '''\n",
    "              update `%s` set `key` = NULL where `telegram_id` = '%s' and `key` = '%s';\n",
    "          ''' % (table_member, telegram_id, key)\n",
    "    response = cursor.execute(sql)\n",
    "    db.commit()\n",
    "    if (response > 0):\n",
    "        print('Activation Success')\n",
    "    else:\n",
    "        print('Activation failed. Please try again.')"
   ]
  },
  {
   "cell_type": "code",
   "execution_count": 12,
   "metadata": {},
   "outputs": [],
   "source": [
    "# Delete Account\n",
    "def request_delete(email, password, telegram_id):\n",
    "    password = sha256(password)\n",
    "    key = md5(email + str(datetime.utcnow()))\n",
    "    sql = '''\n",
    "          update `%s` set `key` = '%s' where `email` = '%s' and `telegram_id` = '%s';\n",
    "      ''' % (table_member, key, email, telegram_id)\n",
    "    response = cursor.execute(sql)\n",
    "    db.commit()\n",
    "    if (response > 0):\n",
    "        print('Confirm your deletion with key: %s' % (key))\n",
    "    else:\n",
    "        print('Deletion request rejected')\n",
    "    \n",
    "def confirm_delete(email, telegram_id, key):\n",
    "    sql = '''\n",
    "              delete from `%s` where `email` = '%s' and `telegram_id` = '%s' and `key` = '%s';\n",
    "          ''' % (table_member, email, telegram_id, key)\n",
    "    \n",
    "    response = cursor.execute(sql)\n",
    "    db.commit()\n",
    "    if (response > 0):\n",
    "        print('%s has been deleted' % (telegram_id))\n",
    "    else:\n",
    "        print('Deletion rejected')\n"
   ]
  },
  {
   "cell_type": "code",
   "execution_count": 13,
   "metadata": {},
   "outputs": [
    {
     "name": "stdout",
     "output_type": "stream",
     "text": [
      "Account activation code: \"04e4b6a33ef4a7af1d33225e9f5ad270\" for @tegarimansyah\n"
     ]
    }
   ],
   "source": [
    "name = 'Tegar Imansyah'\n",
    "email = 'tegar@imansyah.name'\n",
    "password = 'cobapassword'\n",
    "telegram_id = 'tegarimansyah'\n",
    "\n",
    "register(name, email, password, telegram_id)"
   ]
  },
  {
   "cell_type": "code",
   "execution_count": 14,
   "metadata": {},
   "outputs": [
    {
     "name": "stdout",
     "output_type": "stream",
     "text": [
      "Activation Success\n"
     ]
    }
   ],
   "source": [
    "activation_code = '04e4b6a33ef4a7af1d33225e9f5ad270'\n",
    "activation(activation_code, telegram_id)"
   ]
  },
  {
   "cell_type": "code",
   "execution_count": 15,
   "metadata": {},
   "outputs": [
    {
     "name": "stdout",
     "output_type": "stream",
     "text": [
      "Confirm your deletion with key: 1034500e6126084ac7202fce5f877871\n"
     ]
    }
   ],
   "source": [
    "request_delete(email,password,telegram_id)"
   ]
  },
  {
   "cell_type": "code",
   "execution_count": 16,
   "metadata": {},
   "outputs": [
    {
     "name": "stdout",
     "output_type": "stream",
     "text": [
      "tegarimansyah has been deleted\n"
     ]
    }
   ],
   "source": [
    "deletion_key = '1034500e6126084ac7202fce5f877871'\n",
    "confirm_delete(email, telegram_id, deletion_key)"
   ]
  },
  {
   "cell_type": "code",
   "execution_count": null,
   "metadata": {},
   "outputs": [],
   "source": [
    "# Just in case you need to restart\n",
    "\n",
    "# sql = \"DROP DATABASE IF EXISTS `%s`;\" % (database)\n",
    "# cursor.execute(sql)"
   ]
  },
  {
   "cell_type": "code",
   "execution_count": null,
   "metadata": {},
   "outputs": [],
   "source": []
  }
 ],
 "metadata": {
  "kernelspec": {
   "display_name": "Python 3",
   "language": "python",
   "name": "python3"
  },
  "language_info": {
   "codemirror_mode": {
    "name": "ipython",
    "version": 3
   },
   "file_extension": ".py",
   "mimetype": "text/x-python",
   "name": "python",
   "nbconvert_exporter": "python",
   "pygments_lexer": "ipython3",
   "version": "3.6.3"
  }
 },
 "nbformat": 4,
 "nbformat_minor": 2
}
