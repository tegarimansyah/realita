{
 "cells": [
  {
   "cell_type": "code",
   "execution_count": 1,
   "metadata": {},
   "outputs": [],
   "source": [
    "from flask import Flask, jsonify, abort, make_response\n",
    "from flask_restful import Api, Resource, reqparse, fields, marshal\n",
    "from flask_httpauth import HTTPBasicAuth\n",
    "import MySQLdb\n",
    "import hashlib\n",
    "from datetime import datetime, timedelta"
   ]
  },
  {
   "cell_type": "code",
   "execution_count": 2,
   "metadata": {},
   "outputs": [],
   "source": [
    "app = Flask(__name__)\n",
    "api = Api(app)\n",
    "auth = HTTPBasicAuth()"
   ]
  },
  {
   "cell_type": "code",
   "execution_count": 3,
   "metadata": {},
   "outputs": [],
   "source": [
    "db=MySQLdb.connect('localhost', 'root', 'root')\n",
    "cursor = db.cursor()"
   ]
  },
  {
   "cell_type": "code",
   "execution_count": 4,
   "metadata": {},
   "outputs": [],
   "source": [
    "# cursor.execute(\"DROP DATABASE IF EXISTS `yourlife`;\")"
   ]
  },
  {
   "cell_type": "code",
   "execution_count": 5,
   "metadata": {},
   "outputs": [],
   "source": [
    "def makeUserInfoTable():\n",
    "    # UserInfo Table\n",
    "    sql = '''CREATE TABLE IF NOT EXISTS `yourlife`.`UserInfo` ( \n",
    "        `userid` INT NOT NULL AUTO_INCREMENT , \n",
    "        `username` VARCHAR(64) NOT NULL , \n",
    "        `password` VARCHAR(64) NOT NULL , \n",
    "        `email` VARCHAR(64) NOT NULL , \n",
    "        `registered_date` DATE NOT NULL , \n",
    "        `activation_key` VARCHAR(64) , \n",
    "        PRIMARY KEY (`userid`),\n",
    "        UNIQUE (`username`),\n",
    "        UNIQUE (`email`)\n",
    "        ) ENGINE = InnoDB;\n",
    "       '''\n",
    "    cursor.execute(sql)"
   ]
  },
  {
   "cell_type": "code",
   "execution_count": 6,
   "metadata": {},
   "outputs": [],
   "source": [
    "def makeInGameProfileTable():\n",
    "    # InGameProfile\n",
    "    sql = '''CREATE TABLE IF NOT EXISTS `yourlife`.`InGameProfile` ( \n",
    "        `userid` INT NOT NULL AUTO_INCREMENT , \n",
    "        `job` TINYINT NOT NULL DEFAULT 1, \n",
    "        `health` TINYINT NOT NULL DEFAULT 100, \n",
    "        `mana` TINYINT NOT NULL DEFAULT 100, \n",
    "        `exp` INT NOT NULL DEFAULT 0, \n",
    "        `level` TINYINT NOT NULL DEFAULT 1, \n",
    "        `stats` TINYINT NOT NULL DEFAULT 0, \n",
    "        `party` INT NOT NULL DEFAULT 0, \n",
    "        `guild` INT NOT NULL DEFAULT 0, \n",
    "        `community` INT NOT NULL DEFAULT 0, \n",
    "        `current_quest` INT NOT NULL DEFAULT 0, \n",
    "        `location` INT NOT NULL DEFAULT 0, \n",
    "        PRIMARY KEY (`userid`)) ENGINE = InnoDB;\n",
    "       '''\n",
    "    cursor.execute(sql)"
   ]
  },
  {
   "cell_type": "code",
   "execution_count": 7,
   "metadata": {},
   "outputs": [],
   "source": [
    "def makeToDoTable():\n",
    "    # ToDo tambahkan kapan todo dibuat\n",
    "    sql = '''CREATE TABLE IF NOT EXISTS `yourlife`.`ToDo` ( \n",
    "        `userid` INT NOT NULL , \n",
    "        `todoid` INT NOT NULL AUTO_INCREMENT , \n",
    "        `title` TEXT NOT NULL , \n",
    "        `status` TINYINT NOT NULL , \n",
    "        `desc` TEXT , \n",
    "        `datestart` DATE, \n",
    "        `dateline` DATE , \n",
    "        `type` INT NOT NULL , \n",
    "        `tag` TEXT NOT NULL , \n",
    "        `parent` INT, \n",
    "        `haschild` BIT,\n",
    "        PRIMARY KEY (`todoid`), \n",
    "        INDEX `idx_userid` (`userid`)) ENGINE = InnoDB;\n",
    "\n",
    "        '''\n",
    "    cursor.execute(sql)"
   ]
  },
  {
   "cell_type": "code",
   "execution_count": 8,
   "metadata": {},
   "outputs": [
    {
     "name": "stdout",
     "output_type": "stream",
     "text": [
      "Preparing Database\n",
      "Done\n"
     ]
    },
    {
     "name": "stderr",
     "output_type": "stream",
     "text": [
      "/home/tegar/.local/lib/python3.6/site-packages/ipykernel_launcher.py:3: Warning: (1007, \"Can't create database 'yourlife'; database exists\")\n",
      "  This is separate from the ipykernel package so we can avoid doing imports until\n",
      "/home/tegar/.local/lib/python3.6/site-packages/ipykernel_launcher.py:15: Warning: (1050, \"Table 'UserInfo' already exists\")\n",
      "  from ipykernel import kernelapp as app\n",
      "/home/tegar/.local/lib/python3.6/site-packages/ipykernel_launcher.py:18: Warning: (1050, \"Table 'InGameProfile' already exists\")\n",
      "/home/tegar/.local/lib/python3.6/site-packages/ipykernel_launcher.py:19: Warning: (1050, \"Table 'ToDo' already exists\")\n"
     ]
    }
   ],
   "source": [
    "print(\"Preparing Database\")\n",
    "\n",
    "cursor.execute(\"CREATE DATABASE IF NOT EXISTS yourlife\")\n",
    "makeUserInfoTable()\n",
    "makeInGameProfileTable()\n",
    "makeToDoTable()\n",
    "cursor.execute('USE `yourlife`')\n",
    "\n",
    "print(\"Done\")"
   ]
  },
  {
   "cell_type": "code",
   "execution_count": 9,
   "metadata": {},
   "outputs": [],
   "source": [
    "def sha256(password):\n",
    "    password = password.encode('UTF-8')\n",
    "    hash_object = hashlib.sha256(password)\n",
    "    hex_dig = hash_object.hexdigest()\n",
    "    return hex_dig"
   ]
  },
  {
   "cell_type": "code",
   "execution_count": 10,
   "metadata": {},
   "outputs": [],
   "source": [
    "def md5(text):\n",
    "    from random import randint\n",
    "    salt = str(randint(1, 7829))\n",
    "    text = salt+text\n",
    "    text = text.encode('UTF-8')\n",
    "    hash_object = hashlib.md5(text)\n",
    "    hex_dig = hash_object.hexdigest()\n",
    "    return hex_dig"
   ]
  },
  {
   "cell_type": "code",
   "execution_count": 11,
   "metadata": {},
   "outputs": [],
   "source": [
    "def check_not_registered(username, email):\n",
    "    print(username,email)\n",
    "    r = cursor.execute(\"select username, email, activation_key from UserInfo where `username`=%s or `email`=%s;\", (username,email))\n",
    "    if (r > 0):\n",
    "        r = cursor.fetchone()\n",
    "        print(r)\n",
    "        if (r[0] == username):\n",
    "            print('Username already used')\n",
    "        elif (r[1] == email):\n",
    "            print('Email already used')\n",
    "        return False\n",
    "    \n",
    "    return True"
   ]
  },
  {
   "cell_type": "code",
   "execution_count": 12,
   "metadata": {},
   "outputs": [],
   "source": [
    "def register(username, password, email):\n",
    "    if check_not_registered(username, email):\n",
    "        password = sha256(password)\n",
    "        activation_key = md5(email + str(datetime.utcnow()))\n",
    "        cursor.execute(\"INSERT INTO `UserInfo` VALUES (NULL, %s, %s, %s, CURRENT_DATE(), %s)\", (username, password, email, activation_key) )\n",
    "        print('Account activation code: \"%s\" for %s' % (activation_key, username))\n",
    "    \n",
    "        db.commit()"
   ]
  },
  {
   "cell_type": "code",
   "execution_count": 13,
   "metadata": {},
   "outputs": [],
   "source": [
    "def activation(activation_key, username):\n",
    "    cursor.execute(\"select userid, username from UserInfo where `activation_key`=%s;\", (activation_key,))\n",
    "    query = cursor.fetchone()\n",
    "    try:\n",
    "        userid = query[0]\n",
    "        username = query[1]\n",
    "        cursor.execute(\"UPDATE UserInfo SET activation_key = NULL WHERE `activation_key`=%s;\", (activation_key,))\n",
    "        db.commit()\n",
    "\n",
    "        print('Activation success')\n",
    "        print('Creating ' + username + ' InGameProfile')\n",
    "        cursor.execute(\"INSERT INTO `InGameProfile` (userid) VALUES (%s)\", (userid,))\n",
    "\n",
    "        db.commit()\n",
    "        print(username + ' created. Enjoy!')\n",
    "        \n",
    "    except TypeError:\n",
    "        print(\"Error: Activation code not valid\")"
   ]
  },
  {
   "cell_type": "code",
   "execution_count": 14,
   "metadata": {},
   "outputs": [],
   "source": [
    "@auth.get_password\n",
    "def get_password(username):\n",
    "    cursor.execute(\"select password from UserInfo where `username`=%s;\", (username,))\n",
    "    query = cursor.fetchone()\n",
    "    if query != None:\n",
    "        return query[0]\n",
    "    return None\n",
    "\n",
    "@auth.hash_password\n",
    "def hash_pw(password):\n",
    "    return sha256(password)\n",
    "\n",
    "@auth.error_handler\n",
    "def unauthorized():\n",
    "    # return 403 instead of 401 to prevent browsers from displaying the default\n",
    "    # auth dialog\n",
    "    return make_response(jsonify({'message': 'Unauthorized access'}), 403)"
   ]
  },
  {
   "cell_type": "code",
   "execution_count": 15,
   "metadata": {},
   "outputs": [],
   "source": [
    "tasks = [\n",
    "    {\n",
    "        'id': 1,\n",
    "        'title': u'Buy groceries',\n",
    "        'description': u'Milk, Cheese, Pizza, Fruit, Tylenol',\n",
    "        'done': False\n",
    "    },\n",
    "    {\n",
    "        'id': 2,\n",
    "        'title': u'Learn Python',\n",
    "        'description': u'Need to find a good Python tutorial on the web',\n",
    "        'done': False\n",
    "    }\n",
    "]\n",
    "\n",
    "task_fields = {\n",
    "    'title': fields.String,\n",
    "    'description': fields.String,\n",
    "    'done': fields.Boolean,\n",
    "    'uri': fields.Url('task')\n",
    "}"
   ]
  },
  {
   "cell_type": "code",
   "execution_count": 16,
   "metadata": {},
   "outputs": [],
   "source": [
    "class Register(Resource):\n",
    "    def __init__(self):\n",
    "        self.reqparse = reqparse.RequestParser()\n",
    "        self.reqparse.add_argument('username', type=str, required=True,\n",
    "                                   help='Your unique username',\n",
    "                                   location='json')\n",
    "        self.reqparse.add_argument('password', type=str, required=True,\n",
    "                                   help='Your password',\n",
    "                                   location='json')\n",
    "        self.reqparse.add_argument('email', type=str, required=True,\n",
    "                                   help='Your email',\n",
    "                                   location='json')\n",
    "        super(Register, self).__init__()\n",
    "        \n",
    "    def post(self):\n",
    "        args = self.reqparse.parse_args()\n",
    "        username = args['username']\n",
    "        email = args['email']\n",
    "        password = args['password']\n",
    "        if check_not_registered(username, email):\n",
    "            password = sha256(password)\n",
    "            activation_key = md5(email + str(datetime.utcnow()))\n",
    "            cursor.execute(\"INSERT INTO `UserInfo` VALUES (NULL, %s, %s, %s, CURRENT_DATE(), %s)\", (username, password, email, activation_key) )\n",
    "            print('Account activation code: \"%s\" for %s' % (activation_key, username))\n",
    "\n",
    "            db.commit()\n",
    "            return {'status':'success','activation_key': activation_key, 'username': username }, 201\n",
    "        \n",
    "        return {'status':'Username already used'}, 409"
   ]
  },
  {
   "cell_type": "code",
   "execution_count": 17,
   "metadata": {},
   "outputs": [],
   "source": [
    "class TaskListAPI(Resource):\n",
    "    decorators = [auth.login_required]\n",
    "\n",
    "    def __init__(self):\n",
    "        self.reqparse = reqparse.RequestParser()\n",
    "        self.reqparse.add_argument('title', type=str, required=True,\n",
    "                                   help='No task title provided',\n",
    "                                   location='json')\n",
    "        self.reqparse.add_argument('description', type=str, default=\"\",\n",
    "                                   location='json')\n",
    "        super(TaskListAPI, self).__init__()\n",
    "\n",
    "    def get(self):\n",
    "        return {'tasks': [marshal(task, task_fields) for task in tasks]}\n",
    "\n",
    "    def post(self):\n",
    "        args = self.reqparse.parse_args()\n",
    "        task = {\n",
    "            'id': tasks[-1]['id'] + 1,\n",
    "            'title': args['title'],\n",
    "            'description': args['description'],\n",
    "            'done': False\n",
    "        }\n",
    "        tasks.append(task)\n",
    "        return {'task': marshal(task, task_fields)}, 201"
   ]
  },
  {
   "cell_type": "code",
   "execution_count": 18,
   "metadata": {},
   "outputs": [],
   "source": [
    "class TaskAPI(Resource):\n",
    "    decorators = [auth.login_required]\n",
    "\n",
    "    def __init__(self):\n",
    "        self.reqparse = reqparse.RequestParser()\n",
    "        self.reqparse.add_argument('title', type=str, location='json')\n",
    "        self.reqparse.add_argument('description', type=str, location='json')\n",
    "        self.reqparse.add_argument('done', type=bool, location='json')\n",
    "        super(TaskAPI, self).__init__()\n",
    "\n",
    "    def get(self, id):\n",
    "        task = [task for task in tasks if task['id'] == id]\n",
    "        if len(task) == 0:\n",
    "            abort(404)\n",
    "        return {'task': marshal(task[0], task_fields)}\n",
    "\n",
    "    def put(self, id):\n",
    "        task = [task for task in tasks if task['id'] == id]\n",
    "        if len(task) == 0:\n",
    "            abort(404)\n",
    "        task = task[0]\n",
    "        args = self.reqparse.parse_args()\n",
    "        for k, v in args.items():\n",
    "            if v is not None:\n",
    "                task[k] = v\n",
    "        return {'task': marshal(task, task_fields)}\n",
    "\n",
    "    def delete(self, id):\n",
    "        task = [task for task in tasks if task['id'] == id]\n",
    "        if len(task) == 0:\n",
    "            abort(404)\n",
    "        tasks.remove(task[0])\n",
    "        return {'result': True}"
   ]
  },
  {
   "cell_type": "code",
   "execution_count": 19,
   "metadata": {},
   "outputs": [],
   "source": [
    "api.add_resource(Register, '/todo/api/v1.0/register', endpoint='register')\n",
    "api.add_resource(TaskListAPI, '/todo/api/v1.0/tasks', endpoint='tasks')\n",
    "api.add_resource(TaskAPI, '/todo/api/v1.0/tasks/<int:id>', endpoint='task')"
   ]
  },
  {
   "cell_type": "code",
   "execution_count": 20,
   "metadata": {},
   "outputs": [
    {
     "name": "stderr",
     "output_type": "stream",
     "text": [
      " * Running on http://127.0.0.1:5000/ (Press CTRL+C to quit)\n",
      "127.0.0.1 - - [21/Mar/2018 22:27:38] \"POST /todo/api/v1.0/register HTTP/1.1\" 201 -\n"
     ]
    },
    {
     "name": "stdout",
     "output_type": "stream",
     "text": [
      "bukantegar tegar@iman.name\n",
      "Account activation code: \"4dbf2d8ee1d78daa7f2ef256af6fc64f\" for bukantegar\n"
     ]
    },
    {
     "name": "stderr",
     "output_type": "stream",
     "text": [
      "127.0.0.1 - - [21/Mar/2018 22:27:48] \"POST /todo/api/v1.0/register HTTP/1.1\" 409 -\n"
     ]
    },
    {
     "name": "stdout",
     "output_type": "stream",
     "text": [
      "bukantegar tegar@iman.name\n",
      "('bukantegar', 'tegar@iman.name', '4dbf2d8ee1d78daa7f2ef256af6fc64f')\n",
      "Username already used\n"
     ]
    },
    {
     "name": "stderr",
     "output_type": "stream",
     "text": [
      "127.0.0.1 - - [21/Mar/2018 22:28:52] \"GET /todo/api/v1.0/task HTTP/1.1\" 404 -\n",
      "127.0.0.1 - - [21/Mar/2018 22:29:14] \"GET /todo/api/v1.0/tasks HTTP/1.1\" 200 -\n",
      "127.0.0.1 - - [21/Mar/2018 22:29:47] \"GET /todo/api/v1.0/tasks/3 HTTP/1.1\" 404 -\n",
      "127.0.0.1 - - [21/Mar/2018 22:29:57] \"GET /todo/api/v1.0/task/3 HTTP/1.1\" 404 -\n",
      "127.0.0.1 - - [21/Mar/2018 22:30:01] \"GET /todo/api/v1.0/task/2 HTTP/1.1\" 404 -\n",
      "127.0.0.1 - - [21/Mar/2018 22:30:06] \"GET /todo/api/v1.0/task/1 HTTP/1.1\" 404 -\n",
      "127.0.0.1 - - [21/Mar/2018 22:30:16] \"GET /todo/api/v1.0/tasks HTTP/1.1\" 200 -\n",
      "127.0.0.1 - - [21/Mar/2018 22:30:36] \"GET /todo/api/v1.0/tasks/1 HTTP/1.1\" 200 -\n",
      "127.0.0.1 - - [21/Mar/2018 22:30:49] \"GET /todo/api/v1.0/tasks/2 HTTP/1.1\" 200 -\n"
     ]
    }
   ],
   "source": [
    "if __name__ == '__main__':\n",
    "    app.run(debug=False)"
   ]
  },
  {
   "cell_type": "code",
   "execution_count": null,
   "metadata": {},
   "outputs": [],
   "source": []
  },
  {
   "cell_type": "code",
   "execution_count": null,
   "metadata": {},
   "outputs": [],
   "source": []
  },
  {
   "cell_type": "code",
   "execution_count": 21,
   "metadata": {},
   "outputs": [],
   "source": [
    "username = 'hello'\n",
    "password = 'inipassword'\n",
    "email = 'egar.imansyh@gmail.com'"
   ]
  },
  {
   "cell_type": "code",
   "execution_count": 22,
   "metadata": {},
   "outputs": [
    {
     "name": "stdout",
     "output_type": "stream",
     "text": [
      "hello egar.imansyh@gmail.com\n",
      "('hello', 'egar.imansyh@gmail.com', None)\n",
      "Username already used\n"
     ]
    }
   ],
   "source": [
    "register(username, password, email)"
   ]
  },
  {
   "cell_type": "code",
   "execution_count": 23,
   "metadata": {},
   "outputs": [
    {
     "name": "stdout",
     "output_type": "stream",
     "text": [
      "Error: Activation code not valid\n"
     ]
    }
   ],
   "source": [
    "activation('896544a662869b6cbe9da9ffef28905d', username)"
   ]
  },
  {
   "cell_type": "code",
   "execution_count": null,
   "metadata": {},
   "outputs": [],
   "source": []
  }
 ],
 "metadata": {
  "kernelspec": {
   "display_name": "Python 3",
   "language": "python",
   "name": "python3"
  },
  "language_info": {
   "codemirror_mode": {
    "name": "ipython",
    "version": 3
   },
   "file_extension": ".py",
   "mimetype": "text/x-python",
   "name": "python",
   "nbconvert_exporter": "python",
   "pygments_lexer": "ipython3",
   "version": "3.6.3"
  }
 },
 "nbformat": 4,
 "nbformat_minor": 2
}
